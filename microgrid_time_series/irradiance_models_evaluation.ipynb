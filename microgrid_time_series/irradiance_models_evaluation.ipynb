{
 "cells": [
  {
   "cell_type": "code",
   "execution_count": null,
   "metadata": {
    "scrolled": true
   },
   "outputs": [],
   "source": [
    "%pip install pandas\n",
    "%pip install matplotlib\n",
    "%pip install numpy\n",
    "%pip install tqdm\n",
    "%pip install timezonefinder\n",
    "%pip install pickle\n",
    "%pip install statsmodels\n",
    "%pip install warnings\n",
    "%pip install pytz\n",
    "%pip install retry_requests\n",
    "%pip install requests_cache\n",
    "%pip install openmeteo_requests\n",
    "%pip install plotly\n",
    "%pip install python-microgrid\n",
    "%pip install scikit-learn\n",
    "%pip install torch\n",
    "\n",
    "# %pip install joblib"
   ]
  },
  {
   "cell_type": "code",
   "execution_count": 15,
   "metadata": {},
   "outputs": [],
   "source": [
    "from typing import List\n",
    "import pytz\n",
    "import warnings"
   ]
  },
  {
   "cell_type": "code",
   "execution_count": 3,
   "metadata": {},
   "outputs": [],
   "source": [
    "import numpy as np  \n",
    "import pandas as pd \n",
    "import matplotlib.pyplot as plt\n",
    "from sklearn.metrics import (mean_absolute_error, mean_squared_error,\n",
    "                             mean_squared_log_error, median_absolute_error,\n",
    "                             r2_score)\n",
    "\n",
    "from tqdm import tqdm\n",
    "from timezonefinder import TimezoneFinder"
   ]
  },
  {
   "cell_type": "code",
   "execution_count": 4,
   "metadata": {},
   "outputs": [],
   "source": [
    "from utils import ReporterPlotMaker"
   ]
  },
  {
   "cell_type": "markdown",
   "metadata": {},
   "source": [
    "# Constants"
   ]
  },
  {
   "cell_type": "code",
   "execution_count": 5,
   "metadata": {},
   "outputs": [],
   "source": [
    "DATA_PATH = \"data\"\n",
    "IRRADIANCE_PATH = DATA_PATH + \"/psh_irradiance_10m.csv\"\n",
    "\n",
    "TIMESTAMP_COLUMN_NAME = \"timestamp\"\n",
    "IRRADIANCE_COLUMN_NAME = \"solar_irradiance\"\n",
    "USECOLS = [TIMESTAMP_COLUMN_NAME, IRRADIANCE_COLUMN_NAME]\n",
    "\n",
    "FORECAST_COLUMN_NAME = \"solar_irradiance_forecast\""
   ]
  },
  {
   "cell_type": "code",
   "execution_count": 6,
   "metadata": {},
   "outputs": [],
   "source": [
    "LATITUDE = 18.852\n",
    "LONGITUDE = 98.994\n",
    "TIMEZONE = TimezoneFinder().certain_timezone_at(lat=LATITUDE, lng=LONGITUDE)"
   ]
  },
  {
   "cell_type": "code",
   "execution_count": 7,
   "metadata": {},
   "outputs": [],
   "source": [
    "SAMPLE_STARTING_TIMESTAMP = pd.Timestamp(year=2024, month=3, day=1, tz=TIMEZONE)\n",
    "SAMPLE_ENDING_TIMESTAMP = pd.Timestamp(year=2024, month=3, day=3, tz=TIMEZONE)\n",
    "\n",
    "TEST_SPLIT_TIMESTAMP = pd.Timestamp(year=2025, month=2, day=16, tz=TIMEZONE)"
   ]
  },
  {
   "cell_type": "code",
   "execution_count": 8,
   "metadata": {},
   "outputs": [],
   "source": [
    "IRRADIANCE_TIMESERIES_RESOLUTION = pd.Timedelta(10, \"m\")"
   ]
  },
  {
   "cell_type": "markdown",
   "metadata": {},
   "source": [
    "# Utils"
   ]
  },
  {
   "cell_type": "code",
   "execution_count": 10,
   "metadata": {},
   "outputs": [],
   "source": [
    "def manage_timestamp_column(df, timestamp_column_name, timezone):\n",
    "    df[timestamp_column_name] = pd.to_datetime(df[timestamp_column_name], utc=False, )\n",
    "    df[timestamp_column_name] = df[timestamp_column_name].dt.tz_convert(timezone)\n",
    "    df = df.sort_values(by=timestamp_column_name)\n",
    "    df = df.set_index(timestamp_column_name) # .asfreq(data_resolution_str)\n",
    "    return df"
   ]
  },
  {
   "cell_type": "code",
   "execution_count": 11,
   "metadata": {},
   "outputs": [],
   "source": [
    "def plot_plotly(df, \n",
    "                primary_data_columns_names, \n",
    "                secondary_data_columns_names,\n",
    "                timestamp_column_name,\n",
    "                title):\n",
    "    reporter = ReporterPlotMaker()\n",
    "    reporter.read_data(df)\n",
    "    reporter.prepare_figure(primary_data_columns_names=primary_data_columns_names,\n",
    "                            secondary_data_columns_names=secondary_data_columns_names,\n",
    "                            title=title,\n",
    "                            x_axis_column=timestamp_column_name)\n",
    "    figure = reporter.plot()\n",
    "    figure.show()"
   ]
  },
  {
   "cell_type": "code",
   "execution_count": 9,
   "metadata": {},
   "outputs": [],
   "source": [
    "def mean_absolute_percentage_error(y_true, y_pred):\n",
    "    return np.mean(np.abs((y_true[y_true!=0] - y_pred[y_true!=0]) / y_true[y_true!=0])) * 100\n",
    "    \n",
    "def build_metrics_table(y_true, y_pred):\n",
    "    metrics_dict = {\"mean_squared_error\": [mean_squared_error(y_true, y_pred)],\n",
    "                    \"mean_squared_log_error\": [mean_squared_log_error(y_true, y_pred)],\n",
    "                    \"mean_absolute_error\": [mean_absolute_error(y_true, y_pred)],\n",
    "                    \"median_absolute_error\": [median_absolute_error(y_true, y_pred)],\n",
    "                    \"r2_score\": [r2_score(y_true, y_pred)],\n",
    "                    # \"mean_absolute_percentage_error\": [mean_absolute_percentage_error(y_true, y_pred)],\n",
    "                   }\n",
    "    return pd.DataFrame(metrics_dict)   "
   ]
  },
  {
   "cell_type": "code",
   "execution_count": 34,
   "metadata": {},
   "outputs": [],
   "source": [
    "from abc import ABC, abstractmethod\n",
    "\n",
    "class Forecaster(ABC):\n",
    "\n",
    "    @property\n",
    "    @abstractmethod\n",
    "    def name(self) -> str:\n",
    "        ...\n",
    "\n",
    "    @abstractmethod\n",
    "    def forecast(self):\n",
    "        ...\n",
    "\n",
    "    @abstractmethod\n",
    "    def test_loop(self, test_ts: pd.Series) -> List:\n",
    "        ..."
   ]
  },
  {
   "cell_type": "code",
   "execution_count": 40,
   "metadata": {},
   "outputs": [],
   "source": [
    "class Tester:\n",
    "\n",
    "    def __init__(self, forecaster: Forecaster, test_ts: pd.Series):\n",
    "        self.forecaster = forecaster\n",
    "        self.test_ts = test_ts\n",
    "        self.forecasts_column_name = self.test_ts.name + \"forecast\" + self.forecaster.name\n",
    "        \n",
    "    def test(self):\n",
    "        forecasts_list = self.forecaster.test_loop(self.test_ts)\n",
    "        self.result_df = self.test_ts.to_frame()\n",
    "        self.result_df[self.forecasts_column_name] = forecasts_list\n",
    "\n",
    "    def plot_result(self) -> None:\n",
    "        plot_plotly(self.result_df.reset_index(),\n",
    "                    [self.test_ts.name, self.forecasts_column_name],\n",
    "                    [],\n",
    "                    TIMESTAMP_COLUMN_NAME,\n",
    "                    \"Test Results\")\n",
    "\n",
    "    def save_result(self) -> None:\n",
    "        self.result_df.to_csv(f\"{self.forecasts_column_name}.csv\", index=True)\n",
    "\n",
    "    def load_result(self, path: str) -> None:\n",
    "        self.result_df = pd.read_csv(path)\n",
    "        manage_timestamp_column(self.result_df, TIMESTAMP_COLUMN_NAME, TIMEZONE)"
   ]
  },
  {
   "cell_type": "code",
   "execution_count": 41,
   "metadata": {},
   "outputs": [],
   "source": [
    "from models.open_meteo_irradiance_forecaster import OpenMeteoIrradianceForecaster, OpenMeteoIrradianceForecasterConfig\n",
    "\n",
    "class OpenMeteoForecaster(Forecaster):\n",
    "\n",
    "    def __init__(self) -> None:\n",
    "        self._name = \"open_meteo\"\n",
    "        forecaster_config = OpenMeteoIrradianceForecasterConfig(latitude=LATITUDE,\n",
    "                                                        longitude=LONGITUDE,\n",
    "                                                        value_column=IRRADIANCE_COLUMN_NAME,\n",
    "                                                        timestamp_column=TIMESTAMP_COLUMN_NAME,\n",
    "                                                        open_meteo_requests_cache_expiration_period=3600)\n",
    "        forecaster = OpenMeteoIrradianceForecaster(forecaster_config)\n",
    "        forecast_size = 1\n",
    "\n",
    "    @property\n",
    "    def name(self) -> str:\n",
    "        return self._name\n",
    "\n",
    "    def forecast(self):\n",
    "        ...\n",
    "\n",
    "    def test_loop(self, test_ts: pd.Series) -> List:\n",
    "        openmeteo_forecasts_list = []\n",
    "\n",
    "        row = 0\n",
    "        \n",
    "        for index, value in tqdm(irradiance_test_ts.items()):\n",
    "            \n",
    "            # print(f\"Index : {index}, Value : {value}\")\n",
    "            \n",
    "            index_floored = index.floor(forecaster.resolution)\n",
    "            \n",
    "            # print(f\"{index_floored=}\")\n",
    "            \n",
    "            forecast = forecaster.forecast(index_floored, forecast_size)\n",
    "            \n",
    "            # print(f\"Forecast : {forecast}\")\n",
    "            \n",
    "            # print(f\"Forecast Value : {forecast[index_floored]}\")\n",
    "            # print()\n",
    "            \n",
    "            openmeteo_forecasts_list.append(forecast[index_floored])\n",
    "            \n",
    "            row += 1\n",
    "        \n",
    "            if row > 100_000:\n",
    "                break"
   ]
  },
  {
   "cell_type": "code",
   "execution_count": 42,
   "metadata": {},
   "outputs": [],
   "source": [
    "from statsmodels.tsa.statespace.sarimax import SARIMAX\n",
    "\n",
    "class SarimaxForecaster(Forecaster):\n",
    "\n",
    "    def __init__(self, version_code: str) -> None:\n",
    "        self._name = \"sarimax_v\" + version_code\n",
    "\n",
    "    @property\n",
    "    def name(self) -> str:\n",
    "        return self._name\n",
    "\n",
    "    def forecast(self):\n",
    "        ...\n",
    "\n",
    "    def test_loop(self, test_ts: pd.Series) -> List:\n",
    "        ..."
   ]
  },
  {
   "cell_type": "code",
   "execution_count": null,
   "metadata": {},
   "outputs": [],
   "source": [
    "class ModelsComparator:\n",
    "\n",
    "    def __init__(self, testers: List[Tester]):\n",
    "        self.results = self.form_results_table(testers)\n",
    "        self.metrics_table = self.form_metrics_table()\n",
    "\n",
    "    def form_results_table(self):\n",
    "        ...\n",
    "\n",
    "    def form_metrics_table(self):\n",
    "        results_sequential_df = results_sequential_df.clip(lower=0)\n",
    "        metrics_table_openmeteo = build_metrics_table(y_true=results_sequential_df[IRRADIANCE_COLUMN_NAME].values,\n",
    "                                                      y_pred=results_sequential_df[IRRADIANCE_COLUMN_NAME + \"_forecast_openmeteo\"].values)\n",
    "        metrics_table_sarimax_v1 = build_metrics_table(y_true=results_sequential_df[IRRADIANCE_COLUMN_NAME].values,\n",
    "                                                       y_pred=results_sequential_df[IRRADIANCE_COLUMN_NAME + \"_forecast_v1\"].values)\n",
    "        metrics_table_sarimax_v2 = build_metrics_table(y_true=results_sequential_df[IRRADIANCE_COLUMN_NAME].values,\n",
    "                                                       y_pred=results_sequential_df[IRRADIANCE_COLUMN_NAME + \"_forecast_v2\"].values)\n",
    "        metrics_table = pd.concat([metrics_table_openmeteo,\n",
    "                                   metrics_table_sarimax_v1,\n",
    "                                   metrics_table_sarimax_v2])\n",
    "        \n",
    "        metrics_table.index = [\"openmeteo\", \"sarimax_v1\", \"sarimax_v2\"]\n",
    "    \n",
    "        return metrics_table\n",
    "\n",
    "    def plot_results(self):\n",
    "        plot_plotly(results_sequential_df.reset_index(),\n",
    "                [IRRADIANCE_COLUMN_NAME, \n",
    "                 IRRADIANCE_COLUMN_NAME + \"_forecast_v1\", \n",
    "                 IRRADIANCE_COLUMN_NAME + \"_forecast_v2\",\n",
    "                 IRRADIANCE_COLUMN_NAME + \"_forecast_openmeteo\"],\n",
    "                [],\n",
    "                TIMESTAMP_COLUMN_NAME,\n",
    "                f\"Irradiance Forecast Sequential\")\n",
    "        "
   ]
  },
  {
   "cell_type": "markdown",
   "metadata": {},
   "source": [
    "# Load Data"
   ]
  },
  {
   "cell_type": "code",
   "execution_count": 19,
   "metadata": {},
   "outputs": [],
   "source": [
    "irradiance_df = pd.read_csv(IRRADIANCE_PATH, \n",
    "                            parse_dates=[TIMESTAMP_COLUMN_NAME],\n",
    "                            usecols=USECOLS)\n",
    "irradiance_df = manage_timestamp_column(irradiance_df, TIMESTAMP_COLUMN_NAME, TIMEZONE)"
   ]
  },
  {
   "cell_type": "markdown",
   "metadata": {},
   "source": [
    "# Visualize Sample"
   ]
  },
  {
   "cell_type": "code",
   "execution_count": null,
   "metadata": {},
   "outputs": [],
   "source": [
    "plot_plotly(irradiance_df[SAMPLE_STARTING_TIMESTAMP : SAMPLE_ENDING_TIMESTAMP].reset_index(),\n",
    "            [IRRADIANCE_COLUMN_NAME],\n",
    "            [],\n",
    "            TIMESTAMP_COLUMN_NAME,\n",
    "            \"Irradiance\")"
   ]
  },
  {
   "cell_type": "markdown",
   "metadata": {},
   "source": [
    "# Split and get test Series"
   ]
  },
  {
   "cell_type": "code",
   "execution_count": 21,
   "metadata": {},
   "outputs": [],
   "source": [
    "irradiance_test_df = irradiance_df[TEST_SPLIT_TIMESTAMP : ]"
   ]
  },
  {
   "cell_type": "code",
   "execution_count": 22,
   "metadata": {},
   "outputs": [],
   "source": [
    "irradiance_train_df = irradiance_df[: TEST_SPLIT_TIMESTAMP]"
   ]
  },
  {
   "cell_type": "code",
   "execution_count": 23,
   "metadata": {},
   "outputs": [
    {
     "data": {
      "text/plain": [
       "0.1922030670883063"
      ]
     },
     "execution_count": 23,
     "metadata": {},
     "output_type": "execute_result"
    }
   ],
   "source": [
    "len(irradiance_test_df) / len(irradiance_train_df)"
   ]
  },
  {
   "cell_type": "code",
   "execution_count": 24,
   "metadata": {},
   "outputs": [],
   "source": [
    "irradiance_test_ts = irradiance_test_df.squeeze()"
   ]
  },
  {
   "cell_type": "markdown",
   "metadata": {},
   "source": [
    "# Test and Evaluation"
   ]
  },
  {
   "cell_type": "code",
   "execution_count": 43,
   "metadata": {},
   "outputs": [],
   "source": [
    "open_meteo_forecaster = OpenMeteoForecaster() # baseline. currently in production\n",
    "sarimax_v1_forecaster = SarimaxForecaster(version_code=\"1\") # resolution: 10 min; history: 24h; forecast: 3h\n",
    "sarimax_v2_forecaster = SarimaxForecaster(version_code=\"2\") # resolution: 10 min; history: 48h; forecast: 1h\n",
    "sarimax_v3_forecaster = SarimaxForecaster(version_code=\"3\") # resolution: 1 hour; history: 48h; forecast: 1h"
   ]
  },
  {
   "cell_type": "code",
   "execution_count": 44,
   "metadata": {},
   "outputs": [],
   "source": [
    "open_meteo_tester = Tester(open_meteo_forecaster, irradiance_test_ts)\n",
    "sarimax_v1_tester = Tester(sarimax_v1_forecaster, irradiance_test_ts)\n",
    "sarimax_v2_tester = Tester(sarimax_v2_forecaster, irradiance_test_ts)\n",
    "sarimax_v3_tester = Tester(sarimax_v3_forecaster, irradiance_test_ts)"
   ]
  },
  {
   "cell_type": "code",
   "execution_count": 46,
   "metadata": {},
   "outputs": [],
   "source": [
    "# load\n",
    "open_meteo_tester.load_result(\"openmeteo_irradiance_result_df.csv\")\n",
    "sarimax_v1_tester.load_result(\"sarimax_10min_irradiance_result_df.csv\")\n",
    "sarimax_v2_tester.load_result(\"sarimax_10min_modified_irradiance_result_df.csv\")\n",
    "# sarimax_v3_tester"
   ]
  },
  {
   "cell_type": "code",
   "execution_count": null,
   "metadata": {},
   "outputs": [],
   "source": [
    "open_meteo_tester.result_df"
   ]
  },
  {
   "cell_type": "code",
   "execution_count": null,
   "metadata": {},
   "outputs": [],
   "source": [
    "sarimax_v1_tester.result_df"
   ]
  },
  {
   "cell_type": "code",
   "execution_count": null,
   "metadata": {},
   "outputs": [],
   "source": [
    "sarimax_v2_tester.result_df"
   ]
  },
  {
   "cell_type": "code",
   "execution_count": null,
   "metadata": {},
   "outputs": [],
   "source": []
  },
  {
   "cell_type": "code",
   "execution_count": null,
   "metadata": {},
   "outputs": [],
   "source": [
    "comparator = ModelsComparator([open_meteo_tester,\n",
    "                               sarimax_v1_tester,\n",
    "                               sarimax_v2_tester,\n",
    "                               sarimax_v3_tester])"
   ]
  },
  {
   "cell_type": "code",
   "execution_count": null,
   "metadata": {},
   "outputs": [],
   "source": [
    "comparator.metrics_table"
   ]
  },
  {
   "cell_type": "code",
   "execution_count": null,
   "metadata": {},
   "outputs": [],
   "source": [
    "comparator.plot_results"
   ]
  },
  {
   "cell_type": "code",
   "execution_count": null,
   "metadata": {},
   "outputs": [],
   "source": []
  },
  {
   "cell_type": "code",
   "execution_count": null,
   "metadata": {},
   "outputs": [],
   "source": []
  },
  {
   "cell_type": "code",
   "execution_count": null,
   "metadata": {},
   "outputs": [],
   "source": []
  },
  {
   "cell_type": "code",
   "execution_count": null,
   "metadata": {},
   "outputs": [],
   "source": []
  },
  {
   "cell_type": "code",
   "execution_count": null,
   "metadata": {},
   "outputs": [],
   "source": []
  },
  {
   "cell_type": "markdown",
   "metadata": {},
   "source": [
    "# SARIMAX model"
   ]
  },
  {
   "cell_type": "code",
   "execution_count": 28,
   "metadata": {},
   "outputs": [],
   "source": []
  },
  {
   "cell_type": "code",
   "execution_count": 29,
   "metadata": {},
   "outputs": [],
   "source": [
    "train_series = irradiance_train_df[-7*24*6 : ] # last 2 days of train dataset"
   ]
  },
  {
   "cell_type": "code",
   "execution_count": 30,
   "metadata": {},
   "outputs": [],
   "source": [
    "train_series = train_series.resample('1h').mean()"
   ]
  },
  {
   "cell_type": "code",
   "execution_count": 31,
   "metadata": {},
   "outputs": [],
   "source": [
    "# old 10 min\n",
    "# with warnings.catch_warnings():\n",
    "#     warnings.simplefilter(\"ignore\")\n",
    "#     model = SARIMAX(train_series, \n",
    "#                     order=(2, 0, 2), \n",
    "#                     seasonal_order=(1, 1, 1, 144),\n",
    "#                     enforce_stationarity=False, \n",
    "#                     enforce_invertibility=False)\n",
    "\n",
    "# new 10 min\n",
    "# with warnings.catch_warnings():\n",
    "#     warnings.simplefilter(\"ignore\")\n",
    "#     model = SARIMAX(train_series, \n",
    "#                     order=(1, 0, 1), \n",
    "#                     seasonal_order=(1, 0, 1, 144),\n",
    "#                     enforce_stationarity=False, \n",
    "#                     enforce_invertibility=False)\n",
    "\n",
    "# new 1 hour\n",
    "with warnings.catch_warnings():\n",
    "    warnings.simplefilter(\"ignore\")\n",
    "    model = SARIMAX(train_series, \n",
    "                    order=(1, 0, 1), \n",
    "                    seasonal_order=(1, 0, 1, 24))"
   ]
  },
  {
   "cell_type": "code",
   "execution_count": 32,
   "metadata": {},
   "outputs": [],
   "source": [
    "with warnings.catch_warnings():\n",
    "    warnings.simplefilter(\"ignore\")\n",
    "    model_fited = model.fit()"
   ]
  },
  {
   "cell_type": "code",
   "execution_count": 33,
   "metadata": {},
   "outputs": [],
   "source": [
    "irradiance_test_ts_hourly = irradiance_test_ts.resample('1h').mean()"
   ]
  },
  {
   "cell_type": "code",
   "execution_count": 35,
   "metadata": {},
   "outputs": [],
   "source": [
    "one_hour = pd.Timedelta(1, \"h\")\n",
    "steps_in_hour = 1 # one_hour // IRRADIANCE_TIMESERIES_RESOLUTION"
   ]
  },
  {
   "cell_type": "code",
   "execution_count": 36,
   "metadata": {},
   "outputs": [],
   "source": [
    "forecast_horizon = 1 * steps_in_hour\n",
    "history_size = 48 * steps_in_hour"
   ]
  },
  {
   "cell_type": "code",
   "execution_count": 37,
   "metadata": {},
   "outputs": [],
   "source": [
    "old_forecast_horizon = 18"
   ]
  },
  {
   "cell_type": "code",
   "execution_count": 36,
   "metadata": {},
   "outputs": [],
   "source": [
    "forecasts_list = []\n",
    "forecasts_timestamps_list = []"
   ]
  },
  {
   "cell_type": "code",
   "execution_count": 37,
   "metadata": {},
   "outputs": [
    {
     "data": {
      "text/plain": [
       "1899"
      ]
     },
     "execution_count": 37,
     "metadata": {},
     "output_type": "execute_result"
    }
   ],
   "source": [
    "len(irradiance_test_ts_hourly)"
   ]
  },
  {
   "cell_type": "code",
   "execution_count": null,
   "metadata": {
    "scrolled": true
   },
   "outputs": [],
   "source": [
    "# with warnings.catch_warnings():\n",
    "#     warnings.simplefilter(\"ignore\")\n",
    "#     for step in tqdm(range(history_size, len(irradiance_test_ts_hourly))):\n",
    "#         current_timestamp = irradiance_test_ts_hourly.index[step]\n",
    "#         actual_value = irradiance_test_ts_hourly.values[step]\n",
    "#         history = irradiance_test_ts_hourly[step - history_size : step]\n",
    "#         assert len(history) == history_size\n",
    "\n",
    "#         model_fited = model_fited.apply(history)\n",
    "#         forecast = model_fited.forecast(forecast_horizon)\n",
    "\n",
    "#         forecasts_list.append(forecast.values)\n",
    "#         forecasts_timestamps_list.append(forecast.index)"
   ]
  },
  {
   "cell_type": "code",
   "execution_count": 159,
   "metadata": {},
   "outputs": [],
   "source": [
    "irradiance_result_df = irradiance_test_ts_hourly[history_size : ].to_frame()"
   ]
  },
  {
   "cell_type": "code",
   "execution_count": 160,
   "metadata": {},
   "outputs": [],
   "source": [
    "forecasts_np = np.array(forecasts_list)"
   ]
  },
  {
   "cell_type": "code",
   "execution_count": 161,
   "metadata": {},
   "outputs": [],
   "source": [
    "for forecast_step in range(forecast_horizon):\n",
    "    irradiance_result_df[f\"{forecast_step}_\" + FORECAST_COLUMN_NAME] = forecasts_np[:, forecast_step]"
   ]
  },
  {
   "cell_type": "code",
   "execution_count": null,
   "metadata": {},
   "outputs": [],
   "source": [
    "irradiance_result_df = irradiance_test_ts[(history_size * (one_hour // IRRADIANCE_TIMESERIES_RESOLUTION)) : ].to_frame()"
   ]
  },
  {
   "cell_type": "code",
   "execution_count": 165,
   "metadata": {},
   "outputs": [],
   "source": [
    "irradiance_result_df = irradiance_result_df.resample('10min').ffill()"
   ]
  },
  {
   "cell_type": "code",
   "execution_count": null,
   "metadata": {},
   "outputs": [],
   "source": [
    "irradiance_test_ts[irradiance_result_df.index[0]:].plot()"
   ]
  },
  {
   "cell_type": "code",
   "execution_count": null,
   "metadata": {},
   "outputs": [],
   "source": [
    "len(irradiance_result_df.filnan())"
   ]
  },
  {
   "cell_type": "code",
   "execution_count": null,
   "metadata": {},
   "outputs": [],
   "source": [
    "irradiance_result_df[\"solar_irradiance\"] = irradiance_test_ts[irradiance_result_df.index[0]:]"
   ]
  },
  {
   "cell_type": "code",
   "execution_count": null,
   "metadata": {},
   "outputs": [],
   "source": []
  },
  {
   "cell_type": "code",
   "execution_count": null,
   "metadata": {},
   "outputs": [],
   "source": []
  },
  {
   "cell_type": "code",
   "execution_count": null,
   "metadata": {},
   "outputs": [],
   "source": []
  },
  {
   "cell_type": "code",
   "execution_count": null,
   "metadata": {},
   "outputs": [],
   "source": []
  },
  {
   "cell_type": "code",
   "execution_count": null,
   "metadata": {},
   "outputs": [],
   "source": []
  },
  {
   "cell_type": "code",
   "execution_count": null,
   "metadata": {},
   "outputs": [],
   "source": [
    "plot_plotly(irradiance_result_df.reset_index(),\n",
    "            [IRRADIANCE_COLUMN_NAME] + [f\"{i}_\" + FORECAST_COLUMN_NAME for i in range(forecast_horizon)],\n",
    "            [],\n",
    "            TIMESTAMP_COLUMN_NAME,\n",
    "            \"Irradiance Forecast\")"
   ]
  },
  {
   "cell_type": "code",
   "execution_count": 59,
   "metadata": {},
   "outputs": [],
   "source": [
    "irradiance_result_df.to_csv(\"irradiance_modified_10min_result_df.csv\", index=True)"
   ]
  },
  {
   "cell_type": "code",
   "execution_count": 30,
   "metadata": {},
   "outputs": [],
   "source": [
    "openmeteo_irradiance_result_df = pd.read_csv(\"openmeteo_irradiance_result_df.csv\")\n",
    "openmeteo_irradiance_result_df = manage_timestamp_column(openmeteo_irradiance_result_df, TIMESTAMP_COLUMN_NAME, TIMEZONE)"
   ]
  },
  {
   "cell_type": "markdown",
   "metadata": {},
   "source": [
    "# SARIMAX evaluation"
   ]
  },
  {
   "cell_type": "code",
   "execution_count": 31,
   "metadata": {},
   "outputs": [],
   "source": [
    "sarimax_v1_result_df = pd.read_csv(\"sarimax_10min_irradiance_result_df.csv\")\n",
    "sarimax_v1_result_df = manage_timestamp_column(sarimax_v1_result_df, TIMESTAMP_COLUMN_NAME, TIMEZONE)"
   ]
  },
  {
   "cell_type": "code",
   "execution_count": 32,
   "metadata": {},
   "outputs": [],
   "source": [
    "sarimax_v2_result_df = pd.read_csv(\"sarimax_10min_modified_irradiance_result_df.csv\")\n",
    "sarimax_v2_result_df = manage_timestamp_column(sarimax_v2_result_df, TIMESTAMP_COLUMN_NAME, TIMEZONE)"
   ]
  },
  {
   "cell_type": "code",
   "execution_count": 33,
   "metadata": {},
   "outputs": [],
   "source": [
    "sarimax_v1_result_df = sarimax_v1_result_df[sarimax_v2_result_df.index[0]:]"
   ]
  },
  {
   "cell_type": "code",
   "execution_count": null,
   "metadata": {},
   "outputs": [],
   "source": [
    "v1_result_sequential = []\n",
    "v2_result_sequential = []\n",
    "for forecast_timestamp in range(0, \n",
    "                                len(sarimax_v1_result_df)-(len(sarimax_v1_result_df) % forecast_horizon), \n",
    "                                forecast_horizon):\n",
    "    \n",
    "    v1_result_sequential.append(sarimax_v1_result_df.drop(columns=[IRRADIANCE_COLUMN_NAME] + [f\"{i}_\" + FORECAST_COLUMN_NAME for i in range(forecast_horizon, \n",
    "                                                                                                                                    old_forecast_horizon)]).iloc[forecast_timestamp].values)\n",
    "    v2_result_sequential.append(sarimax_v2_result_df.drop(columns=[IRRADIANCE_COLUMN_NAME]).iloc[forecast_timestamp].values)\n",
    "    \n",
    "v1_result_sequential = np.concatenate(v1_result_sequential)\n",
    "v2_result_sequential = np.concatenate(v2_result_sequential)"
   ]
  },
  {
   "cell_type": "code",
   "execution_count": 75,
   "metadata": {},
   "outputs": [],
   "source": [
    "results_sequential_df = sarimax_v1_result_df[IRRADIANCE_COLUMN_NAME].to_frame()[:-(len(sarimax_v1_result_df) % forecast_horizon)]"
   ]
  },
  {
   "cell_type": "code",
   "execution_count": 77,
   "metadata": {},
   "outputs": [],
   "source": [
    "results_sequential_df[IRRADIANCE_COLUMN_NAME + \"_forecast_v1\"] = v1_result_sequential\n",
    "results_sequential_df[IRRADIANCE_COLUMN_NAME + \"_forecast_v2\"] = v2_result_sequential"
   ]
  },
  {
   "cell_type": "code",
   "execution_count": 106,
   "metadata": {},
   "outputs": [],
   "source": [
    "results_sequential_df = results_sequential_df[openmeteo_irradiance_result_df.index[0]:]"
   ]
  },
  {
   "cell_type": "code",
   "execution_count": null,
   "metadata": {},
   "outputs": [],
   "source": [
    "results_sequential_df[IRRADIANCE_COLUMN_NAME + \"_forecast_openmeteo\"] = openmeteo_irradiance_result_df[\"solar_irradiance_forecast\"].values[:-1]"
   ]
  },
  {
   "cell_type": "code",
   "execution_count": null,
   "metadata": {},
   "outputs": [],
   "source": [
    "results_sequential_df"
   ]
  },
  {
   "cell_type": "code",
   "execution_count": null,
   "metadata": {},
   "outputs": [],
   "source": [
    "plot_plotly(results_sequential_df.reset_index(),\n",
    "                [IRRADIANCE_COLUMN_NAME, \n",
    "                 IRRADIANCE_COLUMN_NAME + \"_forecast_v1\", \n",
    "                 IRRADIANCE_COLUMN_NAME + \"_forecast_v2\",\n",
    "                 IRRADIANCE_COLUMN_NAME + \"_forecast_openmeteo\"],\n",
    "                [],\n",
    "                TIMESTAMP_COLUMN_NAME,\n",
    "                f\"Irradiance Forecast Sequential\")"
   ]
  },
  {
   "cell_type": "code",
   "execution_count": 131,
   "metadata": {},
   "outputs": [],
   "source": [
    "results_sequential_df = results_sequential_df.clip(lower=0)"
   ]
  },
  {
   "cell_type": "code",
   "execution_count": 132,
   "metadata": {},
   "outputs": [],
   "source": [
    "metrics_table_openmeteo = build_metrics_table(y_true=results_sequential_df[IRRADIANCE_COLUMN_NAME].values,\n",
    "                                              y_pred=results_sequential_df[IRRADIANCE_COLUMN_NAME + \"_forecast_openmeteo\"].values)"
   ]
  },
  {
   "cell_type": "code",
   "execution_count": 133,
   "metadata": {},
   "outputs": [],
   "source": [
    "metrics_table_sarimax_v1 = build_metrics_table(y_true=results_sequential_df[IRRADIANCE_COLUMN_NAME].values,\n",
    "                                               y_pred=results_sequential_df[IRRADIANCE_COLUMN_NAME + \"_forecast_v1\"].values)"
   ]
  },
  {
   "cell_type": "code",
   "execution_count": 134,
   "metadata": {},
   "outputs": [],
   "source": [
    "metrics_table_sarimax_v2 = build_metrics_table(y_true=results_sequential_df[IRRADIANCE_COLUMN_NAME].values,\n",
    "                                               y_pred=results_sequential_df[IRRADIANCE_COLUMN_NAME + \"_forecast_v2\"].values)"
   ]
  },
  {
   "cell_type": "code",
   "execution_count": 135,
   "metadata": {},
   "outputs": [],
   "source": [
    "metrics_table = pd.concat([metrics_table_openmeteo,\n",
    "                           metrics_table_sarimax_v1,\n",
    "                           metrics_table_sarimax_v2])\n",
    "\n",
    "metrics_table.index = [\"openmeteo\", \"sarimax_v1\", \"sarimax_v2\"]"
   ]
  },
  {
   "cell_type": "code",
   "execution_count": null,
   "metadata": {},
   "outputs": [],
   "source": [
    "metrics_table"
   ]
  },
  {
   "cell_type": "code",
   "execution_count": null,
   "metadata": {},
   "outputs": [],
   "source": []
  },
  {
   "cell_type": "code",
   "execution_count": null,
   "metadata": {},
   "outputs": [],
   "source": []
  }
 ],
 "metadata": {
  "kernelspec": {
   "display_name": "Python 3 (ipykernel)",
   "language": "python",
   "name": "python3"
  },
  "language_info": {
   "codemirror_mode": {
    "name": "ipython",
    "version": 3
   },
   "file_extension": ".py",
   "mimetype": "text/x-python",
   "name": "python",
   "nbconvert_exporter": "python",
   "pygments_lexer": "ipython3",
   "version": "3.11.10"
  }
 },
 "nbformat": 4,
 "nbformat_minor": 4
}
