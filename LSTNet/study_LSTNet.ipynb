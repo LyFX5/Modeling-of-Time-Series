{
 "cells": [
  {
   "cell_type": "code",
   "execution_count": 1,
   "id": "initial_id",
   "metadata": {
    "collapsed": true,
    "ExecuteTime": {
     "end_time": "2023-08-30T07:46:03.634678257Z",
     "start_time": "2023-08-30T07:46:01.112811846Z"
    }
   },
   "outputs": [],
   "source": [
    "import torch\n",
    "import torch.nn as nn\n",
    "import pandas as pd\n",
    "import numpy as np\n",
    "from models import LSTNet"
   ]
  },
  {
   "cell_type": "markdown",
   "source": [
    "# Utilities"
   ],
   "metadata": {
    "collapsed": false
   },
   "id": "b39e45cbda267d97"
  },
  {
   "cell_type": "code",
   "execution_count": 2,
   "outputs": [
    {
     "data": {
      "text/plain": "Ellipsis"
     },
     "execution_count": 2,
     "metadata": {},
     "output_type": "execute_result"
    }
   ],
   "source": [
    "..."
   ],
   "metadata": {
    "collapsed": false,
    "ExecuteTime": {
     "end_time": "2023-08-30T07:46:05.473916036Z",
     "start_time": "2023-08-30T07:46:05.441736592Z"
    }
   },
   "id": "f489d352cf88f25b"
  },
  {
   "cell_type": "markdown",
   "source": [
    "# Constants"
   ],
   "metadata": {
    "collapsed": false
   },
   "id": "6c78b2f6469fcbdf"
  },
  {
   "cell_type": "code",
   "execution_count": 3,
   "outputs": [],
   "source": [
    "TIMESERIES_PATH = \"data/household_power_consumption.txt\"\n",
    "..."
   ],
   "metadata": {
    "collapsed": false,
    "ExecuteTime": {
     "end_time": "2023-08-30T07:46:06.438084111Z",
     "start_time": "2023-08-30T07:46:06.423825369Z"
    }
   },
   "id": "6572377cb8dce08b"
  },
  {
   "cell_type": "markdown",
   "source": [
    "# Data Load"
   ],
   "metadata": {
    "collapsed": false
   },
   "id": "c38451ec62929425"
  },
  {
   "cell_type": "code",
   "execution_count": 4,
   "outputs": [
    {
     "name": "stderr",
     "output_type": "stream",
     "text": [
      "/tmp/ipykernel_5358/2225374297.py:1: DtypeWarning: Columns (2,3,4,5,6,7) have mixed types. Specify dtype option on import or set low_memory=False.\n",
      "  consumption_df = pd.read_csv(TIMESERIES_PATH, delimiter=\";\")\n"
     ]
    }
   ],
   "source": [
    "consumption_df = pd.read_csv(TIMESERIES_PATH, delimiter=\";\")"
   ],
   "metadata": {
    "collapsed": false,
    "ExecuteTime": {
     "end_time": "2023-08-30T07:46:15.673087228Z",
     "start_time": "2023-08-30T07:46:12.693351106Z"
    }
   },
   "id": "56d35c1eba58287a"
  },
  {
   "cell_type": "code",
   "execution_count": 5,
   "outputs": [
    {
     "data": {
      "text/plain": "               Date      Time Global_active_power Global_reactive_power  \\\n0        16/12/2006  17:24:00               4.216                 0.418   \n1        16/12/2006  17:25:00               5.360                 0.436   \n2        16/12/2006  17:26:00               5.374                 0.498   \n3        16/12/2006  17:27:00               5.388                 0.502   \n4        16/12/2006  17:28:00               3.666                 0.528   \n...             ...       ...                 ...                   ...   \n2075254  26/11/2010  20:58:00               0.946                   0.0   \n2075255  26/11/2010  20:59:00               0.944                   0.0   \n2075256  26/11/2010  21:00:00               0.938                   0.0   \n2075257  26/11/2010  21:01:00               0.934                   0.0   \n2075258  26/11/2010  21:02:00               0.932                   0.0   \n\n         Voltage Global_intensity Sub_metering_1 Sub_metering_2  \\\n0        234.840           18.400          0.000          1.000   \n1        233.630           23.000          0.000          1.000   \n2        233.290           23.000          0.000          2.000   \n3        233.740           23.000          0.000          1.000   \n4        235.680           15.800          0.000          1.000   \n...          ...              ...            ...            ...   \n2075254   240.43              4.0            0.0            0.0   \n2075255    240.0              4.0            0.0            0.0   \n2075256   239.82              3.8            0.0            0.0   \n2075257    239.7              3.8            0.0            0.0   \n2075258   239.55              3.8            0.0            0.0   \n\n         Sub_metering_3  \n0                  17.0  \n1                  16.0  \n2                  17.0  \n3                  17.0  \n4                  17.0  \n...                 ...  \n2075254             0.0  \n2075255             0.0  \n2075256             0.0  \n2075257             0.0  \n2075258             0.0  \n\n[2075259 rows x 9 columns]",
      "text/html": "<div>\n<style scoped>\n    .dataframe tbody tr th:only-of-type {\n        vertical-align: middle;\n    }\n\n    .dataframe tbody tr th {\n        vertical-align: top;\n    }\n\n    .dataframe thead th {\n        text-align: right;\n    }\n</style>\n<table border=\"1\" class=\"dataframe\">\n  <thead>\n    <tr style=\"text-align: right;\">\n      <th></th>\n      <th>Date</th>\n      <th>Time</th>\n      <th>Global_active_power</th>\n      <th>Global_reactive_power</th>\n      <th>Voltage</th>\n      <th>Global_intensity</th>\n      <th>Sub_metering_1</th>\n      <th>Sub_metering_2</th>\n      <th>Sub_metering_3</th>\n    </tr>\n  </thead>\n  <tbody>\n    <tr>\n      <th>0</th>\n      <td>16/12/2006</td>\n      <td>17:24:00</td>\n      <td>4.216</td>\n      <td>0.418</td>\n      <td>234.840</td>\n      <td>18.400</td>\n      <td>0.000</td>\n      <td>1.000</td>\n      <td>17.0</td>\n    </tr>\n    <tr>\n      <th>1</th>\n      <td>16/12/2006</td>\n      <td>17:25:00</td>\n      <td>5.360</td>\n      <td>0.436</td>\n      <td>233.630</td>\n      <td>23.000</td>\n      <td>0.000</td>\n      <td>1.000</td>\n      <td>16.0</td>\n    </tr>\n    <tr>\n      <th>2</th>\n      <td>16/12/2006</td>\n      <td>17:26:00</td>\n      <td>5.374</td>\n      <td>0.498</td>\n      <td>233.290</td>\n      <td>23.000</td>\n      <td>0.000</td>\n      <td>2.000</td>\n      <td>17.0</td>\n    </tr>\n    <tr>\n      <th>3</th>\n      <td>16/12/2006</td>\n      <td>17:27:00</td>\n      <td>5.388</td>\n      <td>0.502</td>\n      <td>233.740</td>\n      <td>23.000</td>\n      <td>0.000</td>\n      <td>1.000</td>\n      <td>17.0</td>\n    </tr>\n    <tr>\n      <th>4</th>\n      <td>16/12/2006</td>\n      <td>17:28:00</td>\n      <td>3.666</td>\n      <td>0.528</td>\n      <td>235.680</td>\n      <td>15.800</td>\n      <td>0.000</td>\n      <td>1.000</td>\n      <td>17.0</td>\n    </tr>\n    <tr>\n      <th>...</th>\n      <td>...</td>\n      <td>...</td>\n      <td>...</td>\n      <td>...</td>\n      <td>...</td>\n      <td>...</td>\n      <td>...</td>\n      <td>...</td>\n      <td>...</td>\n    </tr>\n    <tr>\n      <th>2075254</th>\n      <td>26/11/2010</td>\n      <td>20:58:00</td>\n      <td>0.946</td>\n      <td>0.0</td>\n      <td>240.43</td>\n      <td>4.0</td>\n      <td>0.0</td>\n      <td>0.0</td>\n      <td>0.0</td>\n    </tr>\n    <tr>\n      <th>2075255</th>\n      <td>26/11/2010</td>\n      <td>20:59:00</td>\n      <td>0.944</td>\n      <td>0.0</td>\n      <td>240.0</td>\n      <td>4.0</td>\n      <td>0.0</td>\n      <td>0.0</td>\n      <td>0.0</td>\n    </tr>\n    <tr>\n      <th>2075256</th>\n      <td>26/11/2010</td>\n      <td>21:00:00</td>\n      <td>0.938</td>\n      <td>0.0</td>\n      <td>239.82</td>\n      <td>3.8</td>\n      <td>0.0</td>\n      <td>0.0</td>\n      <td>0.0</td>\n    </tr>\n    <tr>\n      <th>2075257</th>\n      <td>26/11/2010</td>\n      <td>21:01:00</td>\n      <td>0.934</td>\n      <td>0.0</td>\n      <td>239.7</td>\n      <td>3.8</td>\n      <td>0.0</td>\n      <td>0.0</td>\n      <td>0.0</td>\n    </tr>\n    <tr>\n      <th>2075258</th>\n      <td>26/11/2010</td>\n      <td>21:02:00</td>\n      <td>0.932</td>\n      <td>0.0</td>\n      <td>239.55</td>\n      <td>3.8</td>\n      <td>0.0</td>\n      <td>0.0</td>\n      <td>0.0</td>\n    </tr>\n  </tbody>\n</table>\n<p>2075259 rows × 9 columns</p>\n</div>"
     },
     "execution_count": 5,
     "metadata": {},
     "output_type": "execute_result"
    }
   ],
   "source": [
    "consumption_df"
   ],
   "metadata": {
    "collapsed": false,
    "ExecuteTime": {
     "end_time": "2023-08-30T07:46:21.235539298Z",
     "start_time": "2023-08-30T07:46:21.185455420Z"
    }
   },
   "id": "dfb9083a58477693"
  },
  {
   "cell_type": "code",
   "execution_count": 6,
   "outputs": [],
   "source": [
    "consumption_df.to_csv(\"data/household_power_consumption.csv\", index=False)"
   ],
   "metadata": {
    "collapsed": false,
    "ExecuteTime": {
     "end_time": "2023-08-30T07:46:36.697380705Z",
     "start_time": "2023-08-30T07:46:27.641219081Z"
    }
   },
   "id": "483d5ebbc8470832"
  },
  {
   "cell_type": "markdown",
   "source": [
    "# Preprocessing"
   ],
   "metadata": {
    "collapsed": false
   },
   "id": "74138ececbd9509a"
  },
  {
   "cell_type": "code",
   "execution_count": null,
   "outputs": [],
   "source": [
    "..."
   ],
   "metadata": {
    "collapsed": false
   },
   "id": "edc7531e5209fcc9"
  },
  {
   "cell_type": "markdown",
   "source": [
    "# Apply LSTNet"
   ],
   "metadata": {
    "collapsed": false
   },
   "id": "3d2f8e1208e3a700"
  },
  {
   "cell_type": "code",
   "execution_count": null,
   "outputs": [],
   "source": [],
   "metadata": {
    "collapsed": false
   },
   "id": "dd2b3dd92823bee3"
  },
  {
   "cell_type": "code",
   "execution_count": null,
   "outputs": [],
   "source": [],
   "metadata": {
    "collapsed": false
   },
   "id": "2289909b4d3ad018"
  }
 ],
 "metadata": {
  "kernelspec": {
   "display_name": "Python 3",
   "language": "python",
   "name": "python3"
  },
  "language_info": {
   "codemirror_mode": {
    "name": "ipython",
    "version": 2
   },
   "file_extension": ".py",
   "mimetype": "text/x-python",
   "name": "python",
   "nbconvert_exporter": "python",
   "pygments_lexer": "ipython2",
   "version": "2.7.6"
  }
 },
 "nbformat": 4,
 "nbformat_minor": 5
}
